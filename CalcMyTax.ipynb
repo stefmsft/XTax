{
 "cells": [
  {
   "cell_type": "code",
   "execution_count": 1,
   "metadata": {},
   "outputs": [],
   "source": [
    "from XTax import Tax\n",
    "import os.path"
   ]
  },
  {
   "cell_type": "code",
   "execution_count": 2,
   "metadata": {},
   "outputs": [
    {
     "name": "stdout",
     "output_type": "stream",
     "text": [
      "Loading the Tax profile file\n",
      "Loading Profile ...\n",
      "    Variable GV_Year: 2019\n",
      "    Variable GV_NbParts: 2\n",
      "\n",
      "Loading Forms variables\n",
      "  Form F2042\n",
      "    Variable F2042S1_HouseholdNames: Du Glandier\n",
      "    Field F2042S1_AJ_Stephane: 66666\n",
      "Calculating your Tax\n",
      "Start Processing Each Forms in order ... \n",
      "\n",
      "Processing forms 2042 ... \n",
      "\n",
      "    Processing Section : 1\n",
      "\n",
      "    Processing Section : 2\n",
      "Warning : Loop On Variable \"F2042S2_BankNames\" not defined\n",
      "\n",
      "\n",
      "Start Processing Tax Calculation ... \n",
      "\n",
      "  Incomes = 66666\n",
      "  10% déduction = 6667.0\n",
      "  Taxable Incomes = 59999\n",
      "  Brut Global Incomes = 59999\n",
      "  Tax before Reduction= 6288\n",
      "  Proportional Tax= 0\n",
      "  Tax before corrections = 6288\n",
      "  Total Tax before Reduction = 6288\n",
      "\n",
      "  Net Tax : 6288\n",
      "\n",
      "Tax Calculation sucessful \n"
     ]
    }
   ],
   "source": [
    "Profile = \"MyTax.yaml\"\n",
    "\n",
    "MyTax = Tax()\n",
    "\n",
    "if os.path.isfile(Profile):\n",
    "\n",
    "    print ('Loading the Tax profile file')\n",
    "    MyTax.LoadProfile(Profile)\n",
    "    \n",
    "    print ('Calculating your Tax')\n",
    "    MyTax.Calculate()"
   ]
  },
  {
   "cell_type": "code",
   "execution_count": null,
   "metadata": {},
   "outputs": [],
   "source": []
  }
 ],
 "metadata": {
  "jupytext": {
   "formats": "ipynb,py:light"
  },
  "kernelspec": {
   "display_name": "Python 3",
   "language": "python",
   "name": "python3"
  },
  "language_info": {
   "codemirror_mode": {
    "name": "ipython",
    "version": 3
   },
   "file_extension": ".py",
   "mimetype": "text/x-python",
   "name": "python",
   "nbconvert_exporter": "python",
   "pygments_lexer": "ipython3",
   "version": "3.8.3"
  }
 },
 "nbformat": 4,
 "nbformat_minor": 4
}
